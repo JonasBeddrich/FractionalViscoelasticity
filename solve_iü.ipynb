{
 "cells": [
  {
   "cell_type": "code",
   "execution_count": 3,
   "metadata": {},
   "outputs": [],
   "source": [
    "import os\n",
    "import sys\n",
    "import importlib\n",
    "import glob\n",
    "import time\n",
    "from tqdm import tqdm\n",
    "\n",
    "import torch\n",
    "import numpy as np\n",
    "import matplotlib.pyplot as plt\n",
    "from src.RationalApproximation import RationalApproximation_AAA\n",
    "from scipy.special import gamma \n",
    "from scipy.integrate import ode\n",
    "import pandas as pd "
   ]
  },
  {
   "cell_type": "code",
   "execution_count": 3,
   "metadata": {},
   "outputs": [],
   "source": [
    "def f(t,x):\n",
    "    pole = 2 \n",
    "    weight = 3 \n",
    "    return - pole * x + weight * t**5  "
   ]
  },
  {
   "cell_type": "code",
   "execution_count": 16,
   "metadata": {},
   "outputs": [],
   "source": [
    "# Analytical solution modes \n",
    "@np.vectorize\n",
    "def sol_modes(t, a=2, w=3): \n",
    "    # w = weights \n",
    "    # a = poles \n",
    "    # the constant is chosen such that the modes have initial condition u_k(0)=0\n",
    "    c = 120 * w / a ** 6 \n",
    "    return (w * (- 120        / a**6 \n",
    "                 + 120 * t**1 / a**5 \n",
    "                 - 60  * t**2 / a**4 \n",
    "                 + 20  * t**3 / a**3 \n",
    "                 - 5   * t**4 / a**2 \n",
    "                 + 1   * t**5 / a) \n",
    "                 + c * np.exp(-a*t))"
   ]
  },
  {
   "cell_type": "code",
   "execution_count": 14,
   "metadata": {},
   "outputs": [
    {
     "data": {
      "text/plain": [
       "[<matplotlib.lines.Line2D at 0x7f12c074b250>]"
      ]
     },
     "execution_count": 14,
     "metadata": {},
     "output_type": "execute_result"
    },
    {
     "data": {
      "image/png": "[encoded data removed]",
      "text/plain": [
       "<Figure size 432x288 with 1 Axes>"
      ]
     },
     "metadata": {
      "needs_background": "light"
     },
     "output_type": "display_data"
    }
   ],
   "source": [
    "import numpy as np\n",
    "from scipy.integrate import solve_ivp\n",
    "\n",
    "def exponential_decay(t, y): return -0.5 * y \n",
    "\n",
    "sol = solve_ivp(exponential_decay, [0, 1], [1])\n",
    "\n",
    "plt.plot(sol.t,sol.y[0])"
   ]
  },
  {
   "cell_type": "code",
   "execution_count": null,
   "metadata": {},
   "outputs": [],
   "source": []
  }
 ],
 "metadata": {
  "kernelspec": {
   "display_name": "Python 3",
   "language": "python",
   "name": "python3"
  },
  "language_info": {
   "codemirror_mode": {
    "name": "ipython",
    "version": 3
   },
   "file_extension": ".py",
   "mimetype": "text/x-python",
   "name": "python",
   "nbconvert_exporter": "python",
   "pygments_lexer": "ipython3",
   "version": "3.8.10"
  }
 },
 "nbformat": 4,
 "nbformat_minor": 2
}
