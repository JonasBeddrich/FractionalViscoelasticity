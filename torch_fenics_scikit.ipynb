{
 "cells": [
  {
   "cell_type": "code",
   "execution_count": 25,
   "metadata": {},
   "outputs": [],
   "source": [
    "import os\n",
    "import sys\n",
    "import importlib\n",
    "import glob\n",
    "import time\n",
    "from tqdm import tqdm\n",
    "\n",
    "import torch\n",
    "import numpy as np\n",
    "import matplotlib.pyplot as plt\n",
    "from src.RationalApproximation import RationalApproximation_AAA\n",
    "from scipy.special import gamma \n",
    "import scipy\n",
    "from scipy.integrate import solve_ivp\n",
    "\n",
    "from torchdiffeq import odeint_adjoint as odeint\n",
    "\n",
    "import pandas as pd "
   ]
  },
  {
   "cell_type": "code",
   "execution_count": 30,
   "metadata": {},
   "outputs": [],
   "source": [
    "class rightside(torch.nn.Module): \n",
    "# @np.vectorize\n",
    "    def forward(t,y): \n",
    "        x = 0 * y\n",
    "        x = y + t**2\n",
    "        return x"
   ]
  },
  {
   "cell_type": "code",
   "execution_count": 29,
   "metadata": {},
   "outputs": [
    {
     "ename": "ValueError",
     "evalue": "func must be an instance of nn.Module to specify the adjoint parameters; alternatively they can be specified explicitly via the `adjoint_params` argument. If there are no parameters then it is allowable to set `adjoint_params=()`.",
     "output_type": "error",
     "traceback": [
      "\u001b[0;31m---------------------------------------------------------------------------\u001b[0m",
      "\u001b[0;31mValueError\u001b[0m                                Traceback (most recent call last)",
      "\u001b[0;32m<ipython-input-29-661250b5545a>\u001b[0m in \u001b[0;36m<module>\u001b[0;34m\u001b[0m\n\u001b[1;32m      6\u001b[0m \u001b[0mt\u001b[0m \u001b[0;34m=\u001b[0m \u001b[0mtorch\u001b[0m\u001b[0;34m.\u001b[0m\u001b[0mtensor\u001b[0m\u001b[0;34m(\u001b[0m\u001b[0mnp\u001b[0m\u001b[0;34m.\u001b[0m\u001b[0mlinspace\u001b[0m\u001b[0;34m(\u001b[0m\u001b[0;36m0\u001b[0m\u001b[0;34m,\u001b[0m\u001b[0;36m1\u001b[0m\u001b[0;34m,\u001b[0m\u001b[0;36m1001\u001b[0m\u001b[0;34m)\u001b[0m\u001b[0;34m)\u001b[0m\u001b[0;34m\u001b[0m\u001b[0;34m\u001b[0m\u001b[0m\n\u001b[1;32m      7\u001b[0m \u001b[0;31m# initial conditions are zero\u001b[0m\u001b[0;34m\u001b[0m\u001b[0;34m\u001b[0m\u001b[0;34m\u001b[0m\u001b[0m\n\u001b[0;32m----> 8\u001b[0;31m \u001b[0msol\u001b[0m \u001b[0;34m=\u001b[0m \u001b[0modeint\u001b[0m\u001b[0;34m(\u001b[0m\u001b[0mf\u001b[0m\u001b[0;34m,\u001b[0m \u001b[0my0\u001b[0m\u001b[0;34m,\u001b[0m \u001b[0mt\u001b[0m\u001b[0;34m)\u001b[0m\u001b[0;34m\u001b[0m\u001b[0;34m\u001b[0m\u001b[0m\n\u001b[0m\u001b[1;32m      9\u001b[0m \u001b[0;34m\u001b[0m\u001b[0m\n\u001b[1;32m     10\u001b[0m \u001b[0;31m#########################################\u001b[0m\u001b[0;34m\u001b[0m\u001b[0;34m\u001b[0m\u001b[0;34m\u001b[0m\u001b[0m\n",
      "\u001b[0;32m~/.local/lib/python3.8/site-packages/torchdiffeq/_impl/adjoint.py\u001b[0m in \u001b[0;36modeint_adjoint\u001b[0;34m(func, y0, t, rtol, atol, method, options, event_fn, adjoint_rtol, adjoint_atol, adjoint_method, adjoint_options, adjoint_params)\u001b[0m\n\u001b[1;32m    152\u001b[0m     \u001b[0;31m# since we have no other way of getting variables along the execution path.\u001b[0m\u001b[0;34m\u001b[0m\u001b[0;34m\u001b[0m\u001b[0;34m\u001b[0m\u001b[0m\n\u001b[1;32m    153\u001b[0m     \u001b[0;32mif\u001b[0m \u001b[0madjoint_params\u001b[0m \u001b[0;32mis\u001b[0m \u001b[0;32mNone\u001b[0m \u001b[0;32mand\u001b[0m \u001b[0;32mnot\u001b[0m \u001b[0misinstance\u001b[0m\u001b[0;34m(\u001b[0m\u001b[0mfunc\u001b[0m\u001b[0;34m,\u001b[0m \u001b[0mnn\u001b[0m\u001b[0;34m.\u001b[0m\u001b[0mModule\u001b[0m\u001b[0;34m)\u001b[0m\u001b[0;34m:\u001b[0m\u001b[0;34m\u001b[0m\u001b[0;34m\u001b[0m\u001b[0m\n\u001b[0;32m--> 154\u001b[0;31m         raise ValueError('func must be an instance of nn.Module to specify the adjoint parameters; alternatively they '\n\u001b[0m\u001b[1;32m    155\u001b[0m                          \u001b[0;34m'can be specified explicitly via the `adjoint_params` argument. If there are no parameters '\u001b[0m\u001b[0;34m\u001b[0m\u001b[0;34m\u001b[0m\u001b[0m\n\u001b[1;32m    156\u001b[0m                          'then it is allowable to set `adjoint_params=()`.')\n",
      "\u001b[0;31mValueError\u001b[0m: func must be an instance of nn.Module to specify the adjoint parameters; alternatively they can be specified explicitly via the `adjoint_params` argument. If there are no parameters then it is allowable to set `adjoint_params=()`."
     ]
    }
   ],
   "source": [
    "T = 1 \n",
    "t_span = (0.,T)\n",
    "y0 = torch.tensor([0])\n",
    "f = rightside()\n",
    "\n",
    "t = torch.tensor(np.linspace(0,1,1001))\n",
    "# initial conditions are zero     \n",
    "sol = odeint(f, y0, t)\n",
    "\n",
    "#########################################\n",
    "### Compute error \n",
    "#########################################\n",
    "\n",
    "# error_u.append(dt * np.linalg.norm(sol_u(sol.t) - sol.y[0]))\n"
   ]
  },
  {
   "cell_type": "code",
   "execution_count": 22,
   "metadata": {},
   "outputs": [
    {
     "data": {
      "text/plain": [
       "array([[0.00000000e+00, 8.43953076e-13, 4.35160411e-12, 1.22605220e-09,\n",
       "        5.50581627e-09, 1.27901443e-06, 5.68479251e-06, 1.40657653e-05,\n",
       "        2.86727504e-05, 5.17979735e-05, 8.56266866e-05, 1.32299357e-04,\n",
       "        1.93957607e-04, 2.72761071e-04, 3.70705510e-04, 4.90025500e-04,\n",
       "        6.33045736e-04, 8.02069013e-04, 9.99374193e-04, 1.22724766e-03,\n",
       "        1.48800141e-03, 1.78397532e-03, 2.11753437e-03, 2.49106698e-03,\n",
       "        2.90698503e-03, 3.36772441e-03, 3.87574554e-03, 4.43353365e-03,\n",
       "        5.04359894e-03, 5.70847685e-03, 6.43072828e-03, 7.21293990e-03,\n",
       "        8.05772433e-03, 8.96772048e-03, 9.94559377e-03, 1.09940364e-02,\n",
       "        1.21157677e-02, 1.33135342e-02, 1.45901100e-02, 1.59482974e-02,\n",
       "        1.73909266e-02, 1.89208561e-02, 2.05409735e-02, 2.22541952e-02,\n",
       "        2.40634669e-02, 2.59717640e-02, 2.79820918e-02, 3.00974856e-02,\n",
       "        3.23210115e-02, 3.46557662e-02, 3.71048777e-02, 3.96715053e-02,\n",
       "        4.23588400e-02, 4.51701050e-02, 4.81085560e-02, 5.11774811e-02,\n",
       "        5.43802017e-02, 5.77200724e-02, 6.12004818e-02, 6.48248522e-02,\n",
       "        6.85966406e-02, 7.25193385e-02, 7.65964726e-02, 8.08316052e-02,\n",
       "        8.52283340e-02, 8.97902933e-02, 9.45211537e-02, 9.94246226e-02,\n",
       "        1.04504445e-01, 1.09764403e-01, 1.15208317e-01, 1.20840046e-01,\n",
       "        1.26663488e-01, 1.32682580e-01, 1.38901297e-01, 1.45323656e-01,\n",
       "        1.51953714e-01, 1.58795568e-01, 1.65853357e-01, 1.73131260e-01,\n",
       "        1.80633502e-01, 1.88364344e-01, 1.96328097e-01, 2.04529109e-01,\n",
       "        2.12971777e-01, 2.21660538e-01, 2.30599875e-01, 2.39794318e-01,\n",
       "        2.49248440e-01, 2.58966860e-01, 2.68954246e-01, 2.79215310e-01,\n",
       "        2.89754813e-01, 3.00577564e-01, 3.11688418e-01, 3.23092282e-01,\n",
       "        3.34794110e-01, 3.46798908e-01, 3.59111729e-01, 3.71737680e-01,\n",
       "        3.84681917e-01, 3.97949650e-01, 4.11546140e-01, 4.25476701e-01,\n",
       "        4.36577898e-01]])"
      ]
     },
     "execution_count": 22,
     "metadata": {},
     "output_type": "execute_result"
    }
   ],
   "source": [
    "sol.y"
   ]
  },
  {
   "cell_type": "code",
   "execution_count": null,
   "metadata": {},
   "outputs": [],
   "source": []
  }
 ],
 "metadata": {
  "kernelspec": {
   "display_name": "Python 3",
   "language": "python",
   "name": "python3"
  },
  "language_info": {
   "codemirror_mode": {
    "name": "ipython",
    "version": 3
   },
   "file_extension": ".py",
   "mimetype": "text/x-python",
   "name": "python",
   "nbconvert_exporter": "python",
   "pygments_lexer": "ipython3",
   "version": "3.8.10"
  }
 },
 "nbformat": 4,
 "nbformat_minor": 2
}
