{
 "cells": [
  {
   "cell_type": "code",
   "execution_count": 2,
   "metadata": {},
   "outputs": [],
   "source": [
    "import os\n",
    "import sys\n",
    "import importlib\n",
    "import glob\n",
    "import time\n",
    "from tqdm import tqdm\n",
    "\n",
    "import torch\n",
    "import numpy as np\n",
    "import matplotlib.pyplot as plt\n",
    "from src.RationalApproximation import RationalApproximation_AAA\n",
    "from scipy.special import gamma \n",
    "import scipy\n",
    "from scipy.integrate import solve_ivp\n",
    "\n",
    "import pandas as pd "
   ]
  },
  {
   "cell_type": "code",
   "execution_count": 3,
   "metadata": {},
   "outputs": [],
   "source": [
    "class MultiTermKernel: \n",
    "\n",
    "    def __init__(self, phis, alphas, **kwargs):\n",
    "        self.phis = phis\n",
    "        self.alphas = alphas\n",
    "\n",
    "        self.RATarget = np.vectorize(self.eval_RATarget) \n",
    "        self.kernel = np.vectorize(self.eval_kernel)\n",
    "\n",
    "    def eval_kernel(self, t):\n",
    "        return np.sum(self.phis / gamma(1 - self.alphas) * t **(-self.alphas))\n",
    "    \n",
    "    def eval_RATarget(self, t):\n",
    "        return np.sum(self.phis * t ** (1 - self.alphas))\n",
    "    \n",
    "# Distribution phi \n",
    "@np.vectorize\n",
    "def Distribution(alpha): \n",
    "    return gamma(6 - alpha) / 120\n",
    "\n",
    "# Right side of the equation \n",
    "@np.vectorize\n",
    "def f(t): \n",
    "    if t == 0: \n",
    "        return 0\n",
    "    if t == 1: \n",
    "        return 2\n",
    "    return (t ** 5 - t**3) / np.log(t)\n",
    "\n",
    "# Analytical solution \n",
    "@np.vectorize\n",
    "def sol_u(t): \n",
    "    return t ** 5\n",
    "\n",
    "@np.vectorize\n",
    "def sol_v(t): \n",
    "    return 5 * t**4 \n",
    "\n",
    "# Analytical solution modes \n",
    "@np.vectorize\n",
    "def sol_modes(t, a, w): \n",
    "    # w = weights \n",
    "    # a = poles \n",
    "    # the constant is chosen such that the modes have initial condition u_k(0)=0\n",
    "    c = 120 * w / a ** 6 \n",
    "    return (w * (- 120        / a**6 \n",
    "                 + 120 * t**1 / a**5 \n",
    "                 - 60  * t**2 / a**4 \n",
    "                 + 20  * t**3 / a**3 \n",
    "                 - 5   * t**4 / a**2 \n",
    "                 + 1   * t**5 / a) \n",
    "                 + c * np.exp(-a*t))"
   ]
  },
  {
   "cell_type": "code",
   "execution_count": 4,
   "metadata": {},
   "outputs": [],
   "source": [
    "class ODE_problem: \n",
    "    def __init__(self,beta0, beta1, beta2, poles01, weights01, poles12, weights12): \n",
    "\n",
    "        self.beta0 = beta0\n",
    "        self.beta1 = beta1\n",
    "        self.beta2 = beta2\n",
    "        \n",
    "        self.poles01 = poles01\n",
    "        self.weights01 = weights01\n",
    "        self.m01 = self.poles01.shape[0]\n",
    "\n",
    "        self.poles12 = poles12\n",
    "        self.weights12 = weights12\n",
    "        self.m12 = self.poles12.shape[0]\n",
    "\n",
    "        self.fun = np.vectorize(self.eval)\n",
    "\n",
    "    def eval(self, t,y):\n",
    "        # 0 -> u\n",
    "        # 1 -> dt u \n",
    "        # 01 modes \n",
    "        # 12 modes \n",
    "\n",
    "        x = 0 * y\n",
    "\n",
    "        # Derivative of u: 1 -\n",
    "        x[0] = y[1]\n",
    "\n",
    "        # Main equation  \n",
    "        x[1] = -1 / self.beta2 * (self.beta0 * y[0] + self.beta1 * y[1] \n",
    "                                  - np.sum(self.poles01 * y[2:self.m01+2])\n",
    "                                  + np.sum(self.poles12 ** 2 * y[self.m01+2:self.m01+self.m12+2])\n",
    "                                  - f(t))\n",
    "\n",
    "        # Mode equations 01 \n",
    "        x[2:self.m01+2] = - self.poles01 * y[2:self.m01+2] + self.weights01 * y[0]\n",
    "\n",
    "        # Mode equations 12 \n",
    "        x[self.m01+2:self.m01+self.m12+2] = - self.poles12 * y[self.m01+2:self.m01+self.m12+2] + self.weights12 * y[0]\n",
    "\n",
    "        return x "
   ]
  },
  {
   "cell_type": "code",
   "execution_count": 5,
   "metadata": {},
   "outputs": [],
   "source": [
    "#########################################\n",
    "### Quadrature of the integral \n",
    "#########################################\n",
    "\n",
    "n_QF = 2 ** 20\n",
    "\n",
    "# interval length / (n for 0 to 1 + n for 1 to 2 + 3 for 0,1,2)\n",
    "QFweight = 2 / (2*n_QF+3)\n",
    "quadraturePoints01 = np.arange(0 + 0.5/n_QF,1 + 0.5/n_QF, 1/n_QF)\n",
    "quadraturePoints12 = np.arange(1 + 0.5/n_QF,2 + 0.5/n_QF, 1/n_QF)\n",
    "\n",
    "phis01 = Distribution(quadraturePoints01) * QFweight\n",
    "phis12 = Distribution(quadraturePoints12) * QFweight\n",
    "phi0 = Distribution(0) * QFweight\n",
    "phi1 = Distribution(1) * QFweight\n",
    "phi2 = Distribution(2) * QFweight\n",
    "\n",
    "MTK01 = MultiTermKernel(phis01,quadraturePoints01)\n",
    "MTK12 = MultiTermKernel(phis12,quadraturePoints12-1)"
   ]
  },
  {
   "cell_type": "code",
   "execution_count": 37,
   "metadata": {},
   "outputs": [
    {
     "name": "stdout",
     "output_type": "stream",
     "text": [
      "0  -  0.1\n",
      "1  -  0.010000000000000002\n",
      "2  -  0.001\n",
      "3  -  0.0001\n",
      "4  -  1e-05\n",
      "5  -  1.0000000000000002e-06\n",
      "6  -  1e-07\n",
      "7  -  1e-08\n"
     ]
    }
   ],
   "source": [
    "#########################################\n",
    "### Simulation and error  \n",
    "#########################################\n",
    "\n",
    "# dts = [1e-2 * 2 ** (-i) for i in range(11)]\n",
    "T  = 1\n",
    "dts = [0.1 * 10**-i for i in range(8)]\n",
    "\n",
    "error_u = [] \n",
    "\n",
    "for idx, dt in enumerate(dts): \n",
    "\n",
    "    print(idx,\" - \",dt)\n",
    "    n_timesteps = int(np.round(T/dt)) + 1\n",
    "    t = dt * np.asarray(range(n_timesteps))   \n",
    "\n",
    "    #########################################\n",
    "    ### Rational Approximation of the Integral Kernel\n",
    "    #########################################\n",
    "\n",
    "    Zmin, Zmax = 1/T,1/dt\n",
    "    tol = 1.e-10\n",
    "    MaxDegree = 30\n",
    "    nSupportPoints = 100\n",
    "\n",
    "    RA01 = RationalApproximation_AAA(alpha=0.5, tol=tol, MaxDegree=MaxDegree, nSupportPoints=nSupportPoints, Zmin= Zmin, Zmax= Zmax, verbose=False, \n",
    "                                    TargetFunction=MTK01.RATarget)\n",
    "    RA12 = RationalApproximation_AAA(alpha=0.5, tol=tol, MaxDegree=MaxDegree, nSupportPoints=nSupportPoints, Zmin= Zmin, Zmax= Zmax, verbose=False, \n",
    "                                    TargetFunction=MTK12.RATarget)\n",
    "\n",
    "    weights01 = RA01.c\n",
    "    poles01 = RA01.d\n",
    "    winf01 = RA01.c_inf\n",
    "    m01 = weights01.shape[0]\n",
    "\n",
    "    weights12 = RA12.c\n",
    "    poles12 = RA12.d\n",
    "    winf12 = RA12.c_inf\n",
    "    m12 = weights12.shape[0]\n",
    "\n",
    "    beta0 = phi0 + np.sum(weights01) - np.sum(weights12 * poles12)\n",
    "    beta1 = phi1 + np.sum(weights12) + winf01\n",
    "    beta2 = phi2 + winf12\n",
    "\n",
    "    #########################################\n",
    "    ### Numerical Scheme \n",
    "    #########################################\n",
    "\n",
    "    problem = ODE_problem(beta0, beta1, beta2, poles01, weights01, poles12, weights12)\n",
    "    initial = np.zeros(10)  \n",
    "\n",
    "    t_span = (0.,1.)\n",
    "    y0 = [0] * (m01+m12+2)\n",
    "    \n",
    "    sol = solve_ivp(problem.eval, t_span, y0, method='BDF', max_step=dt)# , atol = 1e-8, rtol = 1e-8)\n",
    "\n",
    "    #########################################\n",
    "    ### Compute error \n",
    "    #########################################\n",
    "\n",
    "    error_u.append(dt * np.linalg.norm(sol_u(sol.t) - sol.y[0]))\n",
    "\n",
    "    # u_list.append(u)\n",
    "    # v_list.append(v)\n",
    "    # a_list.append(a)\n",
    "\n",
    "    # error_u.append(dt * (np.linalg.norm(sol_u(t) - u)))\n",
    "    # error_v.append(dt * (np.linalg.norm(sol_v(t) - v)))\n",
    "\n",
    "    # for i in range(m01): \n",
    "    #     error_modes01[idx, i] = dt * (np.linalg.norm(modes01[:,i] - sol_modes(t, poles01[i], weights01[i])))\n",
    "        \n",
    "    # for i in range(m12): \n",
    "    #     error_modes12[idx, i] = dt * (np.linalg.norm(modes12[:,i] - sol_modes(t, poles12[i], weights12[i])))\n",
    "    "
   ]
  },
  {
   "cell_type": "code",
   "execution_count": null,
   "metadata": {},
   "outputs": [
    {
     "data": {
      "text/plain": [
       "[<matplotlib.lines.Line2D at 0x7f1a3b2077c0>]"
      ]
     },
     "execution_count": 33,
     "metadata": {},
     "output_type": "execute_result"
    },
    {
     "data": {
      "image/png": "[encoded data removed]",
      "text/plain": [
       "<Figure size 432x288 with 1 Axes>"
      ]
     },
     "metadata": {
      "needs_background": "light"
     },
     "output_type": "display_data"
    }
   ],
   "source": [
    "plt.loglog(dts,dts)\n",
    "plt.loglog(dts,error_u)"
   ]
  },
  {
   "cell_type": "code",
   "execution_count": null,
   "metadata": {},
   "outputs": [
    {
     "data": {
      "text/plain": [
       "(51,)"
      ]
     },
     "execution_count": 34,
     "metadata": {},
     "output_type": "execute_result"
    },
    {
     "data": {
      "image/png": "[encoded data removed]",
      "text/plain": [
       "<Figure size 432x288 with 1 Axes>"
      ]
     },
     "metadata": {
      "needs_background": "light"
     },
     "output_type": "display_data"
    }
   ],
   "source": [
    "plt.plot(sol.t, sol.y[0])\n",
    "plt.plot(sol.t, sol.y[1])"
   ]
  },
  {
   "cell_type": "code",
   "execution_count": null,
   "metadata": {},
   "outputs": [
    {
     "data": {
      "image/png": "[encoded data removed]",
      "text/plain": [
       "<Figure size 432x288 with 1 Axes>"
      ]
     },
     "metadata": {
      "needs_background": "light"
     },
     "output_type": "display_data"
    }
   ],
   "source": [
    "for i in range(2, sol.y.shape[0]): \n",
    "    plt.plot(sol.t, sol.y[i])"
   ]
  },
  {
   "cell_type": "code",
   "execution_count": null,
   "metadata": {},
   "outputs": [],
   "source": []
  },
  {
   "cell_type": "code",
   "execution_count": null,
   "metadata": {},
   "outputs": [],
   "source": []
  }
 ],
 "metadata": {
  "kernelspec": {
   "display_name": "Python 3",
   "language": "python",
   "name": "python3"
  },
  "language_info": {
   "codemirror_mode": {
    "name": "ipython",
    "version": 3
   },
   "file_extension": ".py",
   "mimetype": "text/x-python",
   "name": "python",
   "nbconvert_exporter": "python",
   "pygments_lexer": "ipython3",
   "version": "3.8.10"
  }
 },
 "nbformat": 4,
 "nbformat_minor": 2
}
